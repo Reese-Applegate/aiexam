{
 "cells": [
  {
   "cell_type": "markdown",
   "id": "c7c74454-dd53-4948-9c42-4374942b48c3",
   "metadata": {},
   "source": [
    "# 1. 라이브러리 불러오기"
   ]
  },
  {
   "cell_type": "code",
   "execution_count": 62,
   "id": "38fd8619-3e87-434a-b3fd-2c1013a76ec6",
   "metadata": {},
   "outputs": [
    {
     "name": "stdout",
     "output_type": "stream",
     "text": [
      "Defaulting to user installation because normal site-packages is not writeable\n",
      "Requirement already satisfied: pillow in c:\\programdata\\anaconda3\\lib\\site-packages (10.4.0)\n"
     ]
    }
   ],
   "source": [
    "!pip install pillow"
   ]
  },
  {
   "cell_type": "code",
   "execution_count": 63,
   "id": "45de1045-eba4-428c-a780-88a89eb07c29",
   "metadata": {},
   "outputs": [],
   "source": [
    "import tensorflow as tf\n",
    "import numpy as np\n",
    "import matplotlib.pyplot as plt\n",
    "from PIL import Image, ImageOps"
   ]
  },
  {
   "cell_type": "markdown",
   "id": "a15dd3ff-71e9-4454-bc90-579e10da8481",
   "metadata": {},
   "source": [
    "# 2. 학습된 모델(Pre-Trained) 불러오기"
   ]
  },
  {
   "cell_type": "code",
   "execution_count": 64,
   "id": "f364eb10-86d6-4cd5-ab89-b7da3d410a01",
   "metadata": {},
   "outputs": [],
   "source": [
    "cnn_model = tf.keras.models.load_model('CNN_epochs(10)_20250519_v1.0.h5')"
   ]
  },
  {
   "cell_type": "code",
   "execution_count": 65,
   "id": "15c8eede-1d8f-4f82-a5ea-5bb268a6989f",
   "metadata": {},
   "outputs": [
    {
     "name": "stdout",
     "output_type": "stream",
     "text": [
      "Model: \"sequential\"\n",
      "_________________________________________________________________\n",
      " Layer (type)                Output Shape              Param #   \n",
      "=================================================================\n",
      " conv2d (Conv2D)             (None, 26, 26, 32)        320       \n",
      "                                                                 \n",
      " max_pooling2d (MaxPooling2  (None, 13, 13, 32)        0         \n",
      " D)                                                              \n",
      "                                                                 \n",
      " conv2d_1 (Conv2D)           (None, 11, 11, 64)        18496     \n",
      "                                                                 \n",
      " max_pooling2d_1 (MaxPoolin  (None, 5, 5, 64)          0         \n",
      " g2D)                                                            \n",
      "                                                                 \n",
      " conv2d_2 (Conv2D)           (None, 3, 3, 64)          36928     \n",
      "                                                                 \n",
      " max_pooling2d_2 (MaxPoolin  (None, 1, 1, 64)          0         \n",
      " g2D)                                                            \n",
      "                                                                 \n",
      " flatten (Flatten)           (None, 64)                0         \n",
      "                                                                 \n",
      " dense (Dense)               (None, 64)                4160      \n",
      "                                                                 \n",
      " dense_1 (Dense)             (None, 10)                650       \n",
      "                                                                 \n",
      "=================================================================\n",
      "Total params: 60554 (236.54 KB)\n",
      "Trainable params: 60554 (236.54 KB)\n",
      "Non-trainable params: 0 (0.00 Byte)\n",
      "_________________________________________________________________\n"
     ]
    }
   ],
   "source": [
    "cnn_model.summary() # 모르는 모델을 알아보기."
   ]
  },
  {
   "cell_type": "markdown",
   "id": "4f44e17c-2182-4707-b03a-cd3740ca07d7",
   "metadata": {},
   "source": [
    "# 3. 데이터 불러오기"
   ]
  },
  {
   "cell_type": "code",
   "execution_count": 66,
   "id": "6a8d0803-88aa-4c28-9ac8-b043b1d65bf0",
   "metadata": {},
   "outputs": [],
   "source": [
    "# 이미지 불러오기\n",
    "image = Image.open('new_4.jpg')"
   ]
  },
  {
   "cell_type": "code",
   "execution_count": 67,
   "id": "230950c0-196f-4fcc-b049-b32d172e7166",
   "metadata": {},
   "outputs": [],
   "source": [
    "# 이미지를 흑백으로 변환\n",
    "image = image.convert('L')"
   ]
  },
  {
   "cell_type": "code",
   "execution_count": 68,
   "id": "afe6ff9f-21c9-4b68-a86f-8c033656f91b",
   "metadata": {},
   "outputs": [
    {
     "data": {
      "image/jpeg": "[encoded data removed]",
      "image/png": "[encoded data removed]",
      "text/plain": [
       "<PIL.Image.Image image mode=L size=61x59>"
      ]
     },
     "execution_count": 68,
     "metadata": {},
     "output_type": "execute_result"
    }
   ],
   "source": [
    "image"
   ]
  },
  {
   "cell_type": "markdown",
   "id": "8297e287-4305-465a-9213-1436ce1ce7ee",
   "metadata": {},
   "source": [
    "# 4. 인공지능이 들어갈 수 있는 형태로 변환"
   ]
  },
  {
   "cell_type": "code",
   "execution_count": 83,
   "id": "97364791-61ee-4856-aaea-38a8f1e1314f",
   "metadata": {},
   "outputs": [],
   "source": [
    "# 인공지능이 들어갈 데이터 형태로 변환\n",
    "# data = np.ndarray(shape=(1, 28, 28, 1), dtype=np.float32)\n",
    "# 현재 이미지는 61 x 59의 크기를 28 x 28 크기로 조정\n",
    "size = (28, 28)\n",
    "image = ImageOps.fit(image, size, Image.LANCZOS)"
   ]
  },
  {
   "cell_type": "code",
   "execution_count": 84,
   "id": "ea605390-5e80-483b-825e-1f192c660446",
   "metadata": {
    "scrolled": true
   },
   "outputs": [
    {
     "data": {
      "image/jpeg": "[encoded data removed]",
      "image/png": "[encoded data removed]",
      "text/plain": [
       "<PIL.Image.Image image mode=L size=28x28>"
      ]
     },
     "execution_count": 84,
     "metadata": {},
     "output_type": "execute_result"
    }
   ],
   "source": [
    "image"
   ]
  },
  {
   "cell_type": "code",
   "execution_count": 85,
   "id": "6cbf5570-735d-4281-9f3c-237a19eafaff",
   "metadata": {},
   "outputs": [],
   "source": [
    "# 이미지를 image_array 변수에 복사\n",
    "image_array = np.array(image) # 넘파이에 뭐 해야 조작가능"
   ]
  },
  {
   "cell_type": "code",
   "execution_count": 86,
   "id": "bb295f32-0f99-45ab-8b33-4b3dc14f6ab1",
   "metadata": {},
   "outputs": [
    {
     "data": {
      "text/plain": [
       "numpy.ndarray"
      ]
     },
     "execution_count": 86,
     "metadata": {},
     "output_type": "execute_result"
    }
   ],
   "source": [
    "type(image_array)"
   ]
  },
  {
   "cell_type": "code",
   "execution_count": 87,
   "id": "f492aa36-e7ea-414d-844c-4f726c3f3ebf",
   "metadata": {},
   "outputs": [
    {
     "data": {
      "text/plain": [
       "PIL.Image.Image"
      ]
     },
     "execution_count": 87,
     "metadata": {},
     "output_type": "execute_result"
    }
   ],
   "source": [
    "type(image)"
   ]
  },
  {
   "cell_type": "code",
   "execution_count": 88,
   "id": "0f867145-ee2b-495e-8d5c-01a98ef8d1b6",
   "metadata": {},
   "outputs": [],
   "source": [
    "# 전처리\n",
    "nor_image_array = (image_array.astype(np.float32) / 255.) # 정규화, float32:실수\n",
    "data = nor_image_array"
   ]
  },
  {
   "cell_type": "code",
   "execution_count": 89,
   "id": "7fd1c993-2f90-48f2-8ae8-a2a695256f67",
   "metadata": {},
   "outputs": [
    {
     "data": {
      "text/plain": [
       "(28, 28)"
      ]
     },
     "execution_count": 89,
     "metadata": {},
     "output_type": "execute_result"
    }
   ],
   "source": [
    "data.shape # 정규화는 했으나, 데이터 형태가 모델과 맞지않다."
   ]
  },
  {
   "cell_type": "code",
   "execution_count": 90,
   "id": "c66cfc5d-fee6-483c-aa9b-0eafc9bda27f",
   "metadata": {
    "scrolled": true
   },
   "outputs": [
    {
     "data": {
      "text/plain": [
       "array([[0.        , 0.        , 0.        , 0.        , 0.        ,\n",
       "        0.        , 0.        , 0.        , 0.        , 0.        ,\n",
       "        0.        , 0.        , 0.        , 0.        , 0.        ,\n",
       "        0.        , 0.        , 0.        , 0.        , 0.        ,\n",
       "        0.        , 0.        , 0.        , 0.        , 0.        ,\n",
       "        0.        , 0.        , 0.        ],\n",
       "       [0.        , 0.        , 0.        , 0.        , 0.        ,\n",
       "        0.        , 0.        , 0.        , 0.        , 0.        ,\n",
       "        0.        , 0.        , 0.        , 0.        , 0.        ,\n",
       "        0.        , 0.        , 0.        , 0.        , 0.        ,\n",
       "        0.        , 0.        , 0.        , 0.        , 0.        ,\n",
       "        0.        , 0.        , 0.        ],\n",
       "       [0.        , 0.        , 0.        , 0.        , 0.        ,\n",
       "        0.        , 0.        , 0.        , 0.        , 0.        ,\n",
       "        0.        , 0.01176471, 0.01176471, 0.00392157, 0.        ,\n",
       "        0.        , 0.        , 0.        , 0.        , 0.        ,\n",
       "        0.        , 0.        , 0.        , 0.        , 0.        ,\n",
       "        0.        , 0.        , 0.        ],\n",
       "       [0.        , 0.        , 0.        , 0.        , 0.        ,\n",
       "        0.        , 0.        , 0.        , 0.        , 0.        ,\n",
       "        0.        , 0.        , 0.        , 0.        , 0.        ,\n",
       "        0.        , 0.        , 0.        , 0.        , 0.        ,\n",
       "        0.        , 0.        , 0.        , 0.        , 0.        ,\n",
       "        0.        , 0.        , 0.        ],\n",
       "       [0.        , 0.        , 0.        , 0.        , 0.        ,\n",
       "        0.        , 0.        , 0.00784314, 0.01176471, 0.00784314,\n",
       "        0.06666667, 0.70980394, 0.7294118 , 0.20784314, 0.        ,\n",
       "        0.00784314, 0.        , 0.        , 0.        , 0.        ,\n",
       "        0.        , 0.        , 0.        , 0.        , 0.        ,\n",
       "        0.        , 0.        , 0.        ],\n",
       "       [0.        , 0.        , 0.        , 0.        , 0.        ,\n",
       "        0.        , 0.        , 0.        , 0.02745098, 0.        ,\n",
       "        0.45490196, 1.        , 1.        , 0.30980393, 0.        ,\n",
       "        0.01176471, 0.        , 0.        , 0.        , 0.        ,\n",
       "        0.        , 0.        , 0.        , 0.        , 0.        ,\n",
       "        0.        , 0.        , 0.        ],\n",
       "       [0.        , 0.        , 0.        , 0.        , 0.        ,\n",
       "        0.        , 0.        , 0.01960784, 0.        , 0.21176471,\n",
       "        0.92156863, 0.9843137 , 0.8235294 , 0.04705882, 0.00784314,\n",
       "        0.00392157, 0.        , 0.        , 0.        , 0.        ,\n",
       "        0.        , 0.        , 0.        , 0.        , 0.        ,\n",
       "        0.        , 0.        , 0.        ],\n",
       "       [0.        , 0.        , 0.        , 0.        , 0.        ,\n",
       "        0.        , 0.00784314, 0.        , 0.20392157, 0.9372549 ,\n",
       "        1.        , 1.        , 0.8156863 , 0.        , 0.00784314,\n",
       "        0.        , 0.00392157, 0.00392157, 0.00784314, 0.00392157,\n",
       "        0.00392157, 0.00392157, 0.        , 0.        , 0.        ,\n",
       "        0.        , 0.        , 0.        ],\n",
       "       [0.        , 0.        , 0.        , 0.        , 0.00784314,\n",
       "        0.01176471, 0.01176471, 0.18431373, 0.93333334, 1.        ,\n",
       "        0.98039216, 0.972549  , 0.23137255, 0.00392157, 0.01176471,\n",
       "        0.01568628, 0.02352941, 0.00784314, 0.        , 0.        ,\n",
       "        0.00392157, 0.00392157, 0.        , 0.        , 0.        ,\n",
       "        0.        , 0.        , 0.        ],\n",
       "       [0.        , 0.        , 0.        , 0.00392157, 0.00392157,\n",
       "        0.02352941, 0.        , 0.45882353, 1.        , 0.95686275,\n",
       "        1.        , 0.57254905, 0.        , 0.01568628, 0.01176471,\n",
       "        0.        , 0.        , 0.        , 0.07843138, 0.03137255,\n",
       "        0.00392157, 0.        , 0.        , 0.        , 0.        ,\n",
       "        0.        , 0.        , 0.        ],\n",
       "       [0.        , 0.        , 0.        , 0.00392157, 0.01176471,\n",
       "        0.        , 0.15686275, 0.9137255 , 0.9764706 , 0.99607843,\n",
       "        0.8509804 , 0.        , 0.01176471, 0.01568628, 0.        ,\n",
       "        0.44313726, 0.5647059 , 0.7137255 , 0.9647059 , 0.42745098,\n",
       "        0.        , 0.02352941, 0.        , 0.        , 0.        ,\n",
       "        0.        , 0.        , 0.        ],\n",
       "       [0.        , 0.        , 0.        , 0.00392157, 0.01568628,\n",
       "        0.02745098, 0.69411767, 1.        , 0.96862745, 1.        ,\n",
       "        0.38039216, 0.00392157, 0.02745098, 0.        , 0.23921569,\n",
       "        0.9843137 , 1.        , 1.        , 1.        , 0.49019608,\n",
       "        0.        , 0.02352941, 0.        , 0.        , 0.        ,\n",
       "        0.        , 0.        , 0.        ],\n",
       "       [0.        , 0.        , 0.        , 0.01568628, 0.        ,\n",
       "        0.3882353 , 1.        , 0.96862745, 1.        , 0.85882354,\n",
       "        0.02352941, 0.01176471, 0.01568628, 0.05490196, 0.8352941 ,\n",
       "        1.        , 0.9647059 , 0.98039216, 0.972549  , 0.1882353 ,\n",
       "        0.        , 0.01176471, 0.        , 0.        , 0.        ,\n",
       "        0.        , 0.        , 0.        ],\n",
       "       [0.        , 0.        , 0.00392157, 0.01176471, 0.03529412,\n",
       "        0.84705883, 0.9882353 , 0.972549  , 1.        , 0.38039216,\n",
       "        0.        , 0.03529412, 0.        , 0.20784314, 1.        ,\n",
       "        0.98039216, 0.98039216, 1.        , 0.6627451 , 0.        ,\n",
       "        0.03137255, 0.01568628, 0.01176471, 0.        , 0.        ,\n",
       "        0.        , 0.        , 0.        ],\n",
       "       [0.        , 0.        , 0.01176471, 0.        , 0.38431373,\n",
       "        1.        , 0.96862745, 1.        , 0.654902  , 0.        ,\n",
       "        0.02352941, 0.01568628, 0.05490196, 0.68235296, 0.99607843,\n",
       "        0.9843137 , 0.99215686, 0.9529412 , 0.09411765, 0.        ,\n",
       "        0.        , 0.        , 0.        , 0.        , 0.        ,\n",
       "        0.        , 0.        , 0.        ],\n",
       "       [0.        , 0.00392157, 0.00784314, 0.0627451 , 0.84705883,\n",
       "        0.99215686, 0.9882353 , 0.9843137 , 0.15294118, 0.        ,\n",
       "        0.00784314, 0.        , 0.19215687, 1.        , 0.99215686,\n",
       "        0.9882353 , 1.        , 0.78039217, 0.33333334, 0.34509805,\n",
       "        0.33333334, 0.3372549 , 0.2627451 , 0.00784314, 0.00392157,\n",
       "        0.        , 0.        , 0.        ],\n",
       "       [0.        , 0.01568628, 0.        , 0.6117647 , 0.99607843,\n",
       "        0.98039216, 0.99607843, 0.99215686, 0.84705883, 0.84705883,\n",
       "        0.84705883, 0.84313726, 0.8745098 , 0.9882353 , 0.99215686,\n",
       "        0.99607843, 0.99607843, 1.        , 1.        , 1.        ,\n",
       "        1.        , 1.        , 0.8117647 , 0.        , 0.01960784,\n",
       "        0.        , 0.        , 0.        ],\n",
       "       [0.        , 0.01568628, 0.        , 0.74509805, 1.        ,\n",
       "        0.99607843, 1.        , 0.9843137 , 1.        , 1.        ,\n",
       "        1.        , 1.        , 1.        , 0.99607843, 0.99607843,\n",
       "        0.99215686, 0.99215686, 0.972549  , 0.9647059 , 0.9647059 ,\n",
       "        0.95686275, 0.9607843 , 0.84313726, 0.10980392, 0.01176471,\n",
       "        0.00784314, 0.        , 0.        ],\n",
       "       [0.        , 0.00784314, 0.00392157, 0.34117648, 0.6156863 ,\n",
       "        0.92156863, 0.9254902 , 1.        , 1.        , 1.        ,\n",
       "        1.        , 0.99215686, 0.99215686, 0.99607843, 1.        ,\n",
       "        1.        , 1.        , 1.        , 1.        , 1.        ,\n",
       "        1.        , 1.        , 1.        , 0.29803923, 0.        ,\n",
       "        0.01960784, 0.        , 0.        ],\n",
       "       [0.        , 0.        , 0.        , 0.        , 0.        ,\n",
       "        0.04705882, 0.04313726, 0.4       , 0.46666667, 0.4509804 ,\n",
       "        0.7607843 , 1.        , 0.99215686, 1.        , 1.        ,\n",
       "        0.9607843 , 0.8980392 , 0.50980395, 0.45490196, 0.45882353,\n",
       "        0.45490196, 0.4509804 , 0.45490196, 0.11372549, 0.00392157,\n",
       "        0.00784314, 0.        , 0.        ],\n",
       "       [0.        , 0.        , 0.        , 0.01176471, 0.01176471,\n",
       "        0.        , 0.        , 0.        , 0.        , 0.        ,\n",
       "        0.5137255 , 1.        , 0.98039216, 0.9843137 , 0.99607843,\n",
       "        0.6862745 , 0.01568628, 0.        , 0.        , 0.        ,\n",
       "        0.        , 0.        , 0.        , 0.        , 0.00392157,\n",
       "        0.00392157, 0.        , 0.        ],\n",
       "       [0.        , 0.        , 0.        , 0.        , 0.        ,\n",
       "        0.00392157, 0.00392157, 0.02352941, 0.03529412, 0.01568628,\n",
       "        0.63529414, 1.        , 0.9843137 , 0.9843137 , 1.        ,\n",
       "        0.58431375, 0.        , 0.03137255, 0.01960784, 0.01960784,\n",
       "        0.01960784, 0.01960784, 0.02352941, 0.00784314, 0.00392157,\n",
       "        0.00784314, 0.00392157, 0.        ],\n",
       "       [0.        , 0.        , 0.        , 0.        , 0.        ,\n",
       "        0.        , 0.        , 0.01176471, 0.        , 0.15294118,\n",
       "        0.98039216, 0.99607843, 0.99215686, 0.99215686, 0.93333334,\n",
       "        0.14117648, 0.00392157, 0.01176471, 0.        , 0.        ,\n",
       "        0.        , 0.        , 0.00392157, 0.00392157, 0.        ,\n",
       "        0.        , 0.        , 0.        ],\n",
       "       [0.        , 0.        , 0.        , 0.        , 0.        ,\n",
       "        0.        , 0.        , 0.01568628, 0.01568628, 0.6392157 ,\n",
       "        1.        , 0.98039216, 0.9843137 , 1.        , 0.7176471 ,\n",
       "        0.        , 0.01568628, 0.        , 0.        , 0.        ,\n",
       "        0.        , 0.        , 0.        , 0.        , 0.        ,\n",
       "        0.        , 0.        , 0.        ],\n",
       "       [0.        , 0.        , 0.        , 0.        , 0.        ,\n",
       "        0.        , 0.00392157, 0.        , 0.05098039, 0.9529412 ,\n",
       "        1.        , 0.99607843, 0.9882353 , 1.        , 0.34509805,\n",
       "        0.        , 0.01176471, 0.        , 0.        , 0.        ,\n",
       "        0.        , 0.        , 0.        , 0.        , 0.        ,\n",
       "        0.        , 0.        , 0.        ],\n",
       "       [0.        , 0.        , 0.        , 0.        , 0.        ,\n",
       "        0.        , 0.00392157, 0.        , 0.04705882, 0.92941177,\n",
       "        1.        , 0.9764706 , 0.9843137 , 0.8       , 0.01568628,\n",
       "        0.00784314, 0.        , 0.        , 0.        , 0.        ,\n",
       "        0.        , 0.        , 0.        , 0.        , 0.        ,\n",
       "        0.        , 0.        , 0.        ],\n",
       "       [0.        , 0.        , 0.        , 0.        , 0.        ,\n",
       "        0.        , 0.        , 0.        , 0.00784314, 0.13333334,\n",
       "        0.12156863, 0.68235296, 1.        , 0.3372549 , 0.        ,\n",
       "        0.01176471, 0.        , 0.        , 0.        , 0.        ,\n",
       "        0.        , 0.        , 0.        , 0.        , 0.        ,\n",
       "        0.        , 0.        , 0.        ],\n",
       "       [0.        , 0.        , 0.        , 0.        , 0.        ,\n",
       "        0.        , 0.        , 0.        , 0.        , 0.        ,\n",
       "        0.        , 0.32156864, 0.56078434, 0.13725491, 0.00392157,\n",
       "        0.00784314, 0.        , 0.        , 0.        , 0.        ,\n",
       "        0.        , 0.        , 0.        , 0.        , 0.        ,\n",
       "        0.        , 0.        , 0.        ]], dtype=float32)"
      ]
     },
     "execution_count": 90,
     "metadata": {},
     "output_type": "execute_result"
    }
   ],
   "source": [
    "data"
   ]
  },
  {
   "cell_type": "code",
   "execution_count": 91,
   "id": "e8b237e4-08fd-492e-87e4-6dfe379a7d14",
   "metadata": {},
   "outputs": [
    {
     "data": {
      "text/plain": [
       "(1, 28, 28, 1)"
      ]
     },
     "execution_count": 91,
     "metadata": {},
     "output_type": "execute_result"
    }
   ],
   "source": [
    "# 인공지능이 들어갈 수 있는 형태로 shape 구조를 변경\n",
    "image_data = data.reshape(1, 28, 28, 1)\n",
    "image_data.shape"
   ]
  },
  {
   "cell_type": "code",
   "execution_count": 92,
   "id": "d55cd198-d746-4ca9-b7df-0ac10d60c2e4",
   "metadata": {},
   "outputs": [
    {
     "data": {
      "text/plain": [
       "<matplotlib.image.AxesImage at 0x151a15b0af0>"
      ]
     },
     "execution_count": 92,
     "metadata": {},
     "output_type": "execute_result"
    },
    {
     "data": {
      "image/png": "[encoded data removed]",
      "text/plain": [
       "<Figure size 640x480 with 1 Axes>"
      ]
     },
     "metadata": {},
     "output_type": "display_data"
    }
   ],
   "source": [
    "plt.imshow(image, cmap='Greys')"
   ]
  },
  {
   "cell_type": "markdown",
   "id": "0fb2bd7b-b3d1-4a29-81b1-412c4d3aa69b",
   "metadata": {},
   "source": [
    "# 5. 예측(Predict)"
   ]
  },
  {
   "cell_type": "code",
   "execution_count": 93,
   "id": "285d623d-1737-458e-a5a5-15dca16815db",
   "metadata": {},
   "outputs": [
    {
     "name": "stdout",
     "output_type": "stream",
     "text": [
      "1/1 [==============================] - 0s 16ms/step\n"
     ]
    }
   ],
   "source": [
    "result = cnn_model.predict(image_data)"
   ]
  },
  {
   "cell_type": "code",
   "execution_count": 94,
   "id": "7b6e4d9e-7496-4f55-8972-d8268fb5fb57",
   "metadata": {},
   "outputs": [],
   "source": [
    "num_result = np.argmax(result)"
   ]
  },
  {
   "cell_type": "code",
   "execution_count": 95,
   "id": "36e12736-4344-4c4d-a1b9-58940b32cdd8",
   "metadata": {},
   "outputs": [
    {
     "name": "stdout",
     "output_type": "stream",
     "text": [
      "실제 이미지 예측 결과 = 1\n"
     ]
    }
   ],
   "source": [
    "print(\"실제 이미지 예측 결과 = %d\" % (num_result))"
   ]
  }
 ],
 "metadata": {
  "kernelspec": {
   "display_name": "p38_cnn",
   "language": "python",
   "name": "p38_cnn"
  },
  "language_info": {
   "codemirror_mode": {
    "name": "ipython",
    "version": 3
   },
   "file_extension": ".py",
   "mimetype": "text/x-python",
   "name": "python",
   "nbconvert_exporter": "python",
   "pygments_lexer": "ipython3",
   "version": "3.8.20"
  }
 },
 "nbformat": 4,
 "nbformat_minor": 5
}
